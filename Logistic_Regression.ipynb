{
  "nbformat": 4,
  "nbformat_minor": 0,
  "metadata": {
    "colab": {
      "name": "Logistic-Regression.ipynb",
      "provenance": [],
      "authorship_tag": "ABX9TyMUfS/wcTs6v+CRlpugClcN",
      "include_colab_link": true
    },
    "kernelspec": {
      "name": "python3",
      "display_name": "Python 3"
    },
    "language_info": {
      "name": "python"
    }
  },
  "cells": [
    {
      "cell_type": "markdown",
      "metadata": {
        "id": "view-in-github",
        "colab_type": "text"
      },
      "source": [
        "<a href=\"https://colab.research.google.com/github/jscienciadados/logistic-regression/blob/main/Logistic_Regression.ipynb\" target=\"_parent\"><img src=\"https://colab.research.google.com/assets/colab-badge.svg\" alt=\"Open In Colab\"/></a>"
      ]
    },
    {
      "cell_type": "markdown",
      "metadata": {
        "id": "zcY7If86_ikR"
      },
      "source": [
        "##Regressão Logística "
      ]
    },
    {
      "cell_type": "markdown",
      "metadata": {
        "id": "2uIUb7W7_o8l"
      },
      "source": [
        "# Análise de Risco de crédito"
      ]
    },
    {
      "cell_type": "code",
      "metadata": {
        "id": "qsdYzXpICadF"
      },
      "source": [
        "from sklearn.linear_model import LogisticRegression"
      ],
      "execution_count": 13,
      "outputs": []
    },
    {
      "cell_type": "code",
      "metadata": {
        "id": "W7ScoOTq_d46"
      },
      "source": [
        "import pickle\n",
        "with open('/content/risco_credito.pkl', 'rb') as f:\n",
        "  X_risco_credit, y_risco_credit = pickle.load(f)"
      ],
      "execution_count": 5,
      "outputs": []
    },
    {
      "cell_type": "code",
      "metadata": {
        "colab": {
          "base_uri": "https://localhost:8080/"
        },
        "id": "98L8t-koBH8o",
        "outputId": "be4fcffd-1b00-424c-fca1-529498b4e756"
      },
      "source": [
        "X_risco_credit"
      ],
      "execution_count": 7,
      "outputs": [
        {
          "output_type": "execute_result",
          "data": {
            "text/plain": [
              "array([[2, 0, 1, 0],\n",
              "       [1, 0, 1, 1],\n",
              "       [1, 1, 1, 1],\n",
              "       [1, 1, 1, 2],\n",
              "       [1, 1, 1, 2],\n",
              "       [1, 1, 0, 2],\n",
              "       [2, 1, 1, 0],\n",
              "       [2, 1, 0, 2],\n",
              "       [0, 1, 1, 2],\n",
              "       [0, 0, 0, 2],\n",
              "       [0, 0, 1, 0],\n",
              "       [0, 0, 1, 1],\n",
              "       [0, 0, 1, 2],\n",
              "       [2, 0, 1, 1]], dtype=object)"
            ]
          },
          "metadata": {
            "tags": []
          },
          "execution_count": 7
        }
      ]
    },
    {
      "cell_type": "code",
      "metadata": {
        "colab": {
          "base_uri": "https://localhost:8080/"
        },
        "id": "z68ohmL7BKUt",
        "outputId": "8d369454-3fd3-406c-c98b-73e050bf3131"
      },
      "source": [
        "y_risco_credit"
      ],
      "execution_count": 8,
      "outputs": [
        {
          "output_type": "execute_result",
          "data": {
            "text/plain": [
              "array(['alto', 'alto', 'moderado', 'alto', 'baixo', 'baixo', 'alto',\n",
              "       'moderado', 'baixo', 'baixo', 'alto', 'moderado', 'baixo', 'alto'],\n",
              "      dtype=object)"
            ]
          },
          "metadata": {
            "tags": []
          },
          "execution_count": 8
        }
      ]
    },
    {
      "cell_type": "code",
      "metadata": {
        "colab": {
          "base_uri": "https://localhost:8080/"
        },
        "id": "tdM8vHC2AQEa",
        "outputId": "02efea4d-6a16-4023-cb18-d487356138ab"
      },
      "source": [
        "print(X_risco_credit.shape)\n",
        "print(y_risco_credit.shape)"
      ],
      "execution_count": 6,
      "outputs": [
        {
          "output_type": "stream",
          "text": [
            "(14, 4)\n",
            "(14,)\n"
          ],
          "name": "stdout"
        }
      ]
    },
    {
      "cell_type": "markdown",
      "metadata": {
        "id": "SfhX1dGEBo-z"
      },
      "source": [
        "Apagando os registros da classe moderado"
      ]
    },
    {
      "cell_type": "code",
      "metadata": {
        "id": "3O3DJwzBAvnz"
      },
      "source": [
        "import numpy as np\n",
        "X_risco_credit = np.delete(X_risco_credit, [2, 7, 11], axis= 0)\n",
        "y_risco_credit = np.delete(y_risco_credit, [2, 7, 11], axis= 0)\n"
      ],
      "execution_count": 10,
      "outputs": []
    },
    {
      "cell_type": "code",
      "metadata": {
        "colab": {
          "base_uri": "https://localhost:8080/"
        },
        "id": "Zs3wlyXvCEjo",
        "outputId": "52900b5f-3004-4d15-f7dd-7e8169d318a0"
      },
      "source": [
        "X_risco_credit"
      ],
      "execution_count": 11,
      "outputs": [
        {
          "output_type": "execute_result",
          "data": {
            "text/plain": [
              "array([[2, 0, 1, 0],\n",
              "       [1, 0, 1, 1],\n",
              "       [1, 1, 1, 2],\n",
              "       [1, 1, 1, 2],\n",
              "       [1, 1, 0, 2],\n",
              "       [2, 1, 1, 0],\n",
              "       [0, 1, 1, 2],\n",
              "       [0, 0, 0, 2],\n",
              "       [0, 0, 1, 0],\n",
              "       [0, 0, 1, 2],\n",
              "       [2, 0, 1, 1]], dtype=object)"
            ]
          },
          "metadata": {
            "tags": []
          },
          "execution_count": 11
        }
      ]
    },
    {
      "cell_type": "code",
      "metadata": {
        "colab": {
          "base_uri": "https://localhost:8080/"
        },
        "id": "yimkZ7-CCO6f",
        "outputId": "e69a3902-226c-48d8-c13b-3a19675da710"
      },
      "source": [
        "y_risco_credit"
      ],
      "execution_count": 12,
      "outputs": [
        {
          "output_type": "execute_result",
          "data": {
            "text/plain": [
              "array(['alto', 'alto', 'alto', 'baixo', 'baixo', 'alto', 'baixo', 'baixo',\n",
              "       'alto', 'baixo', 'alto'], dtype=object)"
            ]
          },
          "metadata": {
            "tags": []
          },
          "execution_count": 12
        }
      ]
    },
    {
      "cell_type": "markdown",
      "metadata": {
        "id": "flQRQPfdChgg"
      },
      "source": [
        "# Criação do Modelo"
      ]
    },
    {
      "cell_type": "code",
      "metadata": {
        "colab": {
          "base_uri": "https://localhost:8080/"
        },
        "id": "ZcyDAekNCQvG",
        "outputId": "7b3225b8-8f31-4a6e-f841-70faa370db35"
      },
      "source": [
        "logistic_risco_credito = LogisticRegression(random_state= 1)\n",
        "logistic_risco_credito.fit(X_risco_credit, y_risco_credit)"
      ],
      "execution_count": 15,
      "outputs": [
        {
          "output_type": "execute_result",
          "data": {
            "text/plain": [
              "LogisticRegression(C=1.0, class_weight=None, dual=False, fit_intercept=True,\n",
              "                   intercept_scaling=1, l1_ratio=None, max_iter=100,\n",
              "                   multi_class='auto', n_jobs=None, penalty='l2',\n",
              "                   random_state=1, solver='lbfgs', tol=0.0001, verbose=0,\n",
              "                   warm_start=False)"
            ]
          },
          "metadata": {
            "tags": []
          },
          "execution_count": 15
        }
      ]
    },
    {
      "cell_type": "markdown",
      "metadata": {
        "id": "DKkg9k5RDXqE"
      },
      "source": [
        "Visualizando os Parâmetros"
      ]
    },
    {
      "cell_type": "code",
      "metadata": {
        "colab": {
          "base_uri": "https://localhost:8080/"
        },
        "id": "jyQc21WsDRKw",
        "outputId": "964fb877-b6a0-4616-e612-0c5c45815833"
      },
      "source": [
        "print('B0', logistic_risco_credito.intercept_)"
      ],
      "execution_count": 17,
      "outputs": [
        {
          "output_type": "stream",
          "text": [
            "B0 [-0.80828993]\n"
          ],
          "name": "stdout"
        }
      ]
    },
    {
      "cell_type": "code",
      "metadata": {
        "colab": {
          "base_uri": "https://localhost:8080/"
        },
        "id": "Sg4_OdwnDgjz",
        "outputId": "5260b36c-146c-40af-d96b-994efec8b32b"
      },
      "source": [
        "print('B1, B2, B3, B4', logistic_risco_credito.coef_)"
      ],
      "execution_count": 18,
      "outputs": [
        {
          "output_type": "stream",
          "text": [
            "B1, B2, B3, B4 [[-0.76704533  0.23906678 -0.47976059  1.12186218]]\n"
          ],
          "name": "stdout"
        }
      ]
    },
    {
      "cell_type": "markdown",
      "metadata": {
        "id": "1_JwDxDpEFTC"
      },
      "source": [
        "Gerando as Previsões"
      ]
    },
    {
      "cell_type": "code",
      "metadata": {
        "colab": {
          "base_uri": "https://localhost:8080/"
        },
        "id": "fFvHkzOLD5Ib",
        "outputId": "c77d6113-e5ed-41cb-f800-4947e98269e5"
      },
      "source": [
        "# historia boa, divida alta, garantia nenhuma, renda > 35\n",
        "# historia ruim, divida alta, garantias adequada, renda < 15\n",
        "previsoes1 = logistic_risco_credito.predict([[0,0,1,2], [2,0,0,0]])\n",
        "previsoes1"
      ],
      "execution_count": 19,
      "outputs": [
        {
          "output_type": "execute_result",
          "data": {
            "text/plain": [
              "array(['baixo', 'alto'], dtype=object)"
            ]
          },
          "metadata": {
            "tags": []
          },
          "execution_count": 19
        }
      ]
    },
    {
      "cell_type": "markdown",
      "metadata": {
        "id": "bL5njnHvK5CR"
      },
      "source": [
        "##Analisando a Base de crédito "
      ]
    },
    {
      "cell_type": "code",
      "metadata": {
        "id": "Dop2vl3uE1mx"
      },
      "source": [
        "import pickle\n",
        "with open('/content/credit.pkl', 'rb') as f:\n",
        "  X_credit_treinamento, y_credit_treinamento, X_credit_teste, y_credit_teste,  = pickle.load(f)"
      ],
      "execution_count": 22,
      "outputs": []
    },
    {
      "cell_type": "code",
      "metadata": {
        "colab": {
          "base_uri": "https://localhost:8080/"
        },
        "id": "NKtJ_NvaLfFa",
        "outputId": "a8a91eed-6d0e-4609-e2da-ec08ea00ad00"
      },
      "source": [
        "# Shape\n",
        "print(X_credit_treinamento.shape)\n",
        "print(X_credit_teste.shape)\n",
        "print(y_credit_treinamento.shape)\n",
        "print(y_credit_teste.shape)"
      ],
      "execution_count": 23,
      "outputs": [
        {
          "output_type": "stream",
          "text": [
            "(1500, 3)\n",
            "(500, 3)\n",
            "(1500,)\n",
            "(500,)\n"
          ],
          "name": "stdout"
        }
      ]
    },
    {
      "cell_type": "markdown",
      "metadata": {
        "id": "FliBp80OM7Dn"
      },
      "source": [
        "# Gerando o Modelo"
      ]
    },
    {
      "cell_type": "code",
      "metadata": {
        "colab": {
          "base_uri": "https://localhost:8080/"
        },
        "id": "hXHGu5j0Mk0g",
        "outputId": "ee1c795f-f26b-4e3b-e27d-32cac34e2b70"
      },
      "source": [
        "logistic_credit = LogisticRegression(random_state= 1)\n",
        "logistic_credit.fit(X_credit_treinamento, y_credit_treinamento)"
      ],
      "execution_count": 25,
      "outputs": [
        {
          "output_type": "execute_result",
          "data": {
            "text/plain": [
              "LogisticRegression(C=1.0, class_weight=None, dual=False, fit_intercept=True,\n",
              "                   intercept_scaling=1, l1_ratio=None, max_iter=100,\n",
              "                   multi_class='auto', n_jobs=None, penalty='l2',\n",
              "                   random_state=1, solver='lbfgs', tol=0.0001, verbose=0,\n",
              "                   warm_start=False)"
            ]
          },
          "metadata": {
            "tags": []
          },
          "execution_count": 25
        }
      ]
    },
    {
      "cell_type": "markdown",
      "metadata": {
        "id": "UM1IMq9XNQhM"
      },
      "source": [
        "Visualizando os Parâmetros"
      ]
    },
    {
      "cell_type": "code",
      "metadata": {
        "colab": {
          "base_uri": "https://localhost:8080/"
        },
        "id": "6oJ5HccXNKgu",
        "outputId": "e3d87ed9-d648-40b3-c625-31e1b92d576d"
      },
      "source": [
        "print('B0', logistic_credit.intercept_)\n",
        "print('B1, B2, B3, B4', logistic_credit.coef_)"
      ],
      "execution_count": 26,
      "outputs": [
        {
          "output_type": "stream",
          "text": [
            "B0 [-6.02976095]\n",
            "B1, B2, B3, B4 [[-2.54927091 -3.72279861  3.93940349]]\n"
          ],
          "name": "stdout"
        }
      ]
    },
    {
      "cell_type": "markdown",
      "metadata": {
        "id": "wfvWKuytN4i8"
      },
      "source": [
        "# Gerando as Previsões"
      ]
    },
    {
      "cell_type": "code",
      "metadata": {
        "id": "x-TLXz_ANnF1"
      },
      "source": [
        "previsoes = logistic_credit.predict(X_credit_teste)"
      ],
      "execution_count": 27,
      "outputs": []
    },
    {
      "cell_type": "markdown",
      "metadata": {
        "id": "r2r0jcbaOLlg"
      },
      "source": [
        "# Avaliando o Desempenho do Modelo"
      ]
    },
    {
      "cell_type": "code",
      "metadata": {
        "colab": {
          "base_uri": "https://localhost:8080/"
        },
        "id": "93ORGEfNOBVP",
        "outputId": "9052a59d-3702-4cdd-b547-d8b470e88ee5"
      },
      "source": [
        "from sklearn.metrics import accuracy_score, classification_report\n",
        "accuracy_score(y_credit_teste, previsoes)"
      ],
      "execution_count": 29,
      "outputs": [
        {
          "output_type": "execute_result",
          "data": {
            "text/plain": [
              "0.946"
            ]
          },
          "metadata": {
            "tags": []
          },
          "execution_count": 29
        }
      ]
    },
    {
      "cell_type": "markdown",
      "metadata": {
        "id": "eOKZKYTvOow0"
      },
      "source": [
        "# Matriz de Confusão"
      ]
    },
    {
      "cell_type": "code",
      "metadata": {
        "colab": {
          "base_uri": "https://localhost:8080/",
          "height": 361
        },
        "id": "uF5Au3peObRb",
        "outputId": "6c44fd54-d5ff-439c-9178-748b1e7b8860"
      },
      "source": [
        "from yellowbrick.classifier import ConfusionMatrix\n",
        "cm = ConfusionMatrix(logistic_credit)\n",
        "cm.fit(X_credit_treinamento, y_credit_treinamento)\n",
        "cm.score(X_credit_teste, y_credit_teste)"
      ],
      "execution_count": 33,
      "outputs": [
        {
          "output_type": "execute_result",
          "data": {
            "text/plain": [
              "0.946"
            ]
          },
          "metadata": {
            "tags": []
          },
          "execution_count": 33
        },
        {
          "output_type": "display_data",
          "data": {
            "image/png": "[encoded data removed]",
            "text/plain": [
              "<Figure size 576x396 with 1 Axes>"
            ]
          },
          "metadata": {
            "tags": []
          }
        }
      ]
    },
    {
      "cell_type": "markdown",
      "metadata": {
        "id": "DDXk4a0NPSEA"
      },
      "source": [
        "# Relatório"
      ]
    },
    {
      "cell_type": "code",
      "metadata": {
        "colab": {
          "base_uri": "https://localhost:8080/"
        },
        "id": "dlEbl7wzPEdi",
        "outputId": "7a481e3a-fdae-4ac7-eadb-d5fb32102629"
      },
      "source": [
        "print(classification_report(y_credit_teste, previsoes))"
      ],
      "execution_count": 34,
      "outputs": [
        {
          "output_type": "stream",
          "text": [
            "              precision    recall  f1-score   support\n",
            "\n",
            "           0       0.97      0.97      0.97       436\n",
            "           1       0.79      0.78      0.79        64\n",
            "\n",
            "    accuracy                           0.95       500\n",
            "   macro avg       0.88      0.88      0.88       500\n",
            "weighted avg       0.95      0.95      0.95       500\n",
            "\n"
          ],
          "name": "stdout"
        }
      ]
    },
    {
      "cell_type": "markdown",
      "metadata": {
        "id": "Bcfyo_6BPtpM"
      },
      "source": [
        "##Analisando a Base de dados do Census - Logistic Regression"
      ]
    },
    {
      "cell_type": "markdown",
      "metadata": {
        "id": "0QBoqAjXQwqF"
      },
      "source": [
        "Carregando os dados"
      ]
    },
    {
      "cell_type": "code",
      "metadata": {
        "id": "7Vmae1RzPa5G"
      },
      "source": [
        "with open('/content/census.pkl', 'rb') as f:\n",
        "  X_census_treino, y_census_treino, X_census_teste, y_census_teste = pickle.load(f)"
      ],
      "execution_count": 35,
      "outputs": []
    },
    {
      "cell_type": "code",
      "metadata": {
        "colab": {
          "base_uri": "https://localhost:8080/"
        },
        "id": "eeCCxTYBREcp",
        "outputId": "41f13e87-f7fb-4595-c32d-a8c82dbe60b1"
      },
      "source": [
        "# shapes\n",
        "print('X treinamento', X_census_treino.shape)\n",
        "print('X teste', X_census_teste.shape)\n",
        "print('y treinamento', y_census_treino.shape)\n",
        "print('y teste', y_census_teste.shape)"
      ],
      "execution_count": 36,
      "outputs": [
        {
          "output_type": "stream",
          "text": [
            "X treinamento (27676, 108)\n",
            "X teste (4885, 108)\n",
            "y treinamento (27676,)\n",
            "y teste (4885,)\n"
          ],
          "name": "stdout"
        }
      ]
    },
    {
      "cell_type": "markdown",
      "metadata": {
        "id": "YNFtirtRR4n2"
      },
      "source": [
        "# Modelo"
      ]
    },
    {
      "cell_type": "code",
      "metadata": {
        "colab": {
          "base_uri": "https://localhost:8080/"
        },
        "id": "iCpBgf1WRnUe",
        "outputId": "8e5d4a24-ca48-4f86-93bb-c1d51c8dca58"
      },
      "source": [
        "logistic_census = LogisticRegression(random_state= 1)\n",
        "logistic_census.fit(X_census_treino, y_census_treino)"
      ],
      "execution_count": 38,
      "outputs": [
        {
          "output_type": "execute_result",
          "data": {
            "text/plain": [
              "LogisticRegression(C=1.0, class_weight=None, dual=False, fit_intercept=True,\n",
              "                   intercept_scaling=1, l1_ratio=None, max_iter=100,\n",
              "                   multi_class='auto', n_jobs=None, penalty='l2',\n",
              "                   random_state=1, solver='lbfgs', tol=0.0001, verbose=0,\n",
              "                   warm_start=False)"
            ]
          },
          "metadata": {
            "tags": []
          },
          "execution_count": 38
        }
      ]
    },
    {
      "cell_type": "markdown",
      "metadata": {
        "id": "r3izN9U_SVjS"
      },
      "source": [
        "# previsoes"
      ]
    },
    {
      "cell_type": "code",
      "metadata": {
        "colab": {
          "base_uri": "https://localhost:8080/"
        },
        "id": "v-IF41cwSO7u",
        "outputId": "0fa05c55-2881-4f00-d885-7fbac068cd6c"
      },
      "source": [
        "previsoes_census = logistic_census.predict(X_census_teste)\n",
        "previsoes_census"
      ],
      "execution_count": 39,
      "outputs": [
        {
          "output_type": "execute_result",
          "data": {
            "text/plain": [
              "array([' <=50K', ' <=50K', ' <=50K', ..., ' <=50K', ' <=50K', ' >50K'],\n",
              "      dtype=object)"
            ]
          },
          "metadata": {
            "tags": []
          },
          "execution_count": 39
        }
      ]
    },
    {
      "cell_type": "code",
      "metadata": {
        "colab": {
          "base_uri": "https://localhost:8080/"
        },
        "id": "Eo0F98uJSjYP",
        "outputId": "ed142d02-1d8e-4b06-e3a7-1d2b3ec85a36"
      },
      "source": [
        "y_census_teste"
      ],
      "execution_count": 40,
      "outputs": [
        {
          "output_type": "execute_result",
          "data": {
            "text/plain": [
              "array([' <=50K', ' <=50K', ' <=50K', ..., ' <=50K', ' <=50K', ' <=50K'],\n",
              "      dtype=object)"
            ]
          },
          "metadata": {
            "tags": []
          },
          "execution_count": 40
        }
      ]
    },
    {
      "cell_type": "markdown",
      "metadata": {
        "id": "m3EWyHjQSyG6"
      },
      "source": [
        "## Acuracia"
      ]
    },
    {
      "cell_type": "code",
      "metadata": {
        "colab": {
          "base_uri": "https://localhost:8080/"
        },
        "id": "xxRpwczkSo_d",
        "outputId": "a818f625-88d9-4f1d-99c3-9f1369718061"
      },
      "source": [
        "accuracy_score(y_census_teste, previsoes_census)"
      ],
      "execution_count": 41,
      "outputs": [
        {
          "output_type": "execute_result",
          "data": {
            "text/plain": [
              "0.849539406345957"
            ]
          },
          "metadata": {
            "tags": []
          },
          "execution_count": 41
        }
      ]
    },
    {
      "cell_type": "markdown",
      "metadata": {
        "id": "MGwTyB4xTMGn"
      },
      "source": [
        "##Matriz de Confusão"
      ]
    },
    {
      "cell_type": "code",
      "metadata": {
        "colab": {
          "base_uri": "https://localhost:8080/",
          "height": 393
        },
        "id": "vBS7Lo2JS6KB",
        "outputId": "7a0f5975-5a49-43ab-8516-9e39fbbb02a3"
      },
      "source": [
        "cmc = ConfusionMatrix(logistic_census)\n",
        "cmc.fit(X_census_treino, y_census_treino)\n",
        "cmc.score(X_census_teste, y_census_teste)"
      ],
      "execution_count": 44,
      "outputs": [
        {
          "output_type": "execute_result",
          "data": {
            "text/plain": [
              "0.849539406345957"
            ]
          },
          "metadata": {
            "tags": []
          },
          "execution_count": 44
        },
        {
          "output_type": "display_data",
          "data": {
            "image/png": "[encoded data removed]",
            "text/plain": [
              "<Figure size 576x396 with 1 Axes>"
            ]
          },
          "metadata": {
            "tags": []
          }
        }
      ]
    },
    {
      "cell_type": "markdown",
      "metadata": {
        "id": "F5Ziv95NT1DC"
      },
      "source": [
        "# Análise de Relatório"
      ]
    },
    {
      "cell_type": "code",
      "metadata": {
        "colab": {
          "base_uri": "https://localhost:8080/"
        },
        "id": "VCmQNk7YTnnC",
        "outputId": "3e47a708-3971-4182-b735-d863b7bc8a9b"
      },
      "source": [
        "print(classification_report(y_census_teste, previsoes_census))"
      ],
      "execution_count": 45,
      "outputs": [
        {
          "output_type": "stream",
          "text": [
            "              precision    recall  f1-score   support\n",
            "\n",
            "       <=50K       0.88      0.93      0.90      3693\n",
            "        >50K       0.73      0.61      0.66      1192\n",
            "\n",
            "    accuracy                           0.85      4885\n",
            "   macro avg       0.80      0.77      0.78      4885\n",
            "weighted avg       0.84      0.85      0.84      4885\n",
            "\n"
          ],
          "name": "stdout"
        }
      ]
    },
    {
      "cell_type": "code",
      "metadata": {
        "id": "1jRWDJBqUBR0"
      },
      "source": [
        ""
      ],
      "execution_count": null,
      "outputs": []
    }
  ]
}